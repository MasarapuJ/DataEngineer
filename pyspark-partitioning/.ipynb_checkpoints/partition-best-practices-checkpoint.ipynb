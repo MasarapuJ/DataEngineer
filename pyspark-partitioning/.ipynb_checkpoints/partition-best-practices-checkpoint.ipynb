{
 "cells": [
  {
   "cell_type": "code",
   "execution_count": null,
   "id": "8e7eb1dc",
   "metadata": {},
   "outputs": [],
   "source": [
    "import findspark\n",
    "findspark.init()\n",
    "\n",
    "from pyspark.sql import SparkSession"
   ]
  },
  {
   "cell_type": "code",
   "execution_count": null,
   "id": "bc896c35",
   "metadata": {},
   "outputs": [],
   "source": [
    "spark = SparkSession.builder\\\n",
    ".appName('partitioning')\\\n",
    ".master('local[*]')\\\n",
    ".getOrCreate()"
   ]
  },
  {
   "cell_type": "code",
   "execution_count": null,
   "id": "188f9f2e",
   "metadata": {},
   "outputs": [],
   "source": [
    "spark"
   ]
  },
  {
   "cell_type": "markdown",
   "id": "f133e7fc",
   "metadata": {},
   "source": [
    "##### Loading Flight data for partitioning"
   ]
  },
  {
   "cell_type": "code",
   "execution_count": null,
   "id": "b7f80cb1",
   "metadata": {},
   "outputs": [],
   "source": [
    "%time AirlineDFMain = spark.read\\\n",
    ".format('csv')\\\n",
    ".option('path', '/Users/jagadeesh/Downloads/data/*csv')\\\n",
    ".option('header', True)\\\n",
    ".load()"
   ]
  },
  {
   "cell_type": "markdown",
   "id": "8588afef",
   "metadata": {},
   "source": [
    "##### checking the loaded DF"
   ]
  },
  {
   "cell_type": "code",
   "execution_count": null,
   "id": "ebcdbaa6",
   "metadata": {},
   "outputs": [],
   "source": [
    "%time AirlineDF.show(1)"
   ]
  },
  {
   "cell_type": "code",
   "execution_count": null,
   "id": "1d30c596",
   "metadata": {},
   "outputs": [],
   "source": [
    "%time AirlineDF.take(1)"
   ]
  },
  {
   "cell_type": "code",
   "execution_count": null,
   "id": "cfff6682",
   "metadata": {},
   "outputs": [],
   "source": [
    "%time AirlineDF.count()"
   ]
  },
  {
   "cell_type": "code",
   "execution_count": null,
   "id": "dba692ab",
   "metadata": {},
   "outputs": [],
   "source": [
    "len(AirlineDF.columns)"
   ]
  },
  {
   "cell_type": "code",
   "execution_count": null,
   "id": "bef72f7f",
   "metadata": {},
   "outputs": [],
   "source": [
    "AirlineDF.rdd.getNumPartitions()"
   ]
  },
  {
   "cell_type": "code",
   "execution_count": null,
   "id": "33747f28",
   "metadata": {},
   "outputs": [],
   "source": [
    "%time AirlineDF.write\\\n",
    ".format('csv')\\\n",
    ".option('header', 'true')\\\n",
    ".mode('overwrite')\\\n",
    ".option('path', '/Users/jagadeesh/Downloads/data/airlines')\\\n",
    ".save()"
   ]
  },
  {
   "cell_type": "markdown",
   "id": "768488f2",
   "metadata": {},
   "source": [
    "##### reducing the number of partitions using coalesce"
   ]
  },
  {
   "cell_type": "code",
   "execution_count": null,
   "id": "aa9cfdce",
   "metadata": {},
   "outputs": [],
   "source": [
    "%time AirlineDF1 = AirlineDF.coalesce(5)"
   ]
  },
  {
   "cell_type": "code",
   "execution_count": null,
   "id": "1e25ff92",
   "metadata": {},
   "outputs": [],
   "source": [
    "AirlineDF1.rdd.getNumPartitions()"
   ]
  },
  {
   "cell_type": "code",
   "execution_count": null,
   "id": "44a62d63",
   "metadata": {},
   "outputs": [],
   "source": [
    "%time AirlineDF1.write\\\n",
    ".format('csv')\\\n",
    ".option('header', 'true')\\\n",
    ".mode('overwrite')\\\n",
    ".option('path', '/Users/jagadeesh/Downloads/data/airlines_5')\\\n",
    ".save()"
   ]
  },
  {
   "cell_type": "markdown",
   "id": "47ade8c2",
   "metadata": {},
   "source": [
    "#### using partitionBy()"
   ]
  },
  {
   "cell_type": "code",
   "execution_count": null,
   "id": "bbe9e176",
   "metadata": {},
   "outputs": [],
   "source": [
    "AirlineDF.write\\\n",
    ".partitionBy('Year')\\\n",
    ".format('csv')\\\n",
    ".mode('overwrite')\\\n",
    ".option('header', True)\\\n",
    ".option('path', '/Users/jagadeesh/Downloads/data/airdata_w_partition')\\\n",
    ".save()"
   ]
  },
  {
   "cell_type": "code",
   "execution_count": null,
   "id": "cbd158da",
   "metadata": {},
   "outputs": [],
   "source": [
    "AirlineDF.write\\\n",
    ".partitionBy('Year','UniqueCarrier')\\\n",
    ".format('csv')\\\n",
    ".mode('overwrite')\\\n",
    ".option('header', True)\\\n",
    ".option('path', '/Users/jagadeesh/Downloads/data/airdata_multiple')\\\n",
    ".save()"
   ]
  },
  {
   "cell_type": "markdown",
   "id": "f42a26be",
   "metadata": {},
   "source": [
    "#### Reading partitioned data in pyspark with specific column"
   ]
  },
  {
   "cell_type": "code",
   "execution_count": null,
   "id": "f7f2c332",
   "metadata": {},
   "outputs": [],
   "source": [
    "%time AirlineDF = spark.read\\\n",
    ".format('csv')\\\n",
    ".option('path', '/Users/jagadeesh/Downloads/data/airdata_multiple/Year=2015')\\\n",
    ".option('header', True)\\\n",
    ".load()"
   ]
  },
  {
   "cell_type": "code",
   "execution_count": null,
   "id": "13b9d287",
   "metadata": {},
   "outputs": [],
   "source": [
    "AirlineDF.count()"
   ]
  },
  {
   "cell_type": "code",
   "execution_count": null,
   "id": "40948e6c",
   "metadata": {},
   "outputs": [],
   "source": [
    "%time AirlineDF5 = spark.read\\\n",
    ".format('csv')\\\n",
    ".option('basePath','/Users/jagadeesh/Downloads/data/airdata_multiple/')\\\n",
    ".option('path', '/Users/jagadeesh/Downloads/data/airdata_multiple/Year=*/UniqueCarrier=*')\\\n",
    ".option('header', True)\\\n",
    ".load()"
   ]
  },
  {
   "cell_type": "code",
   "execution_count": null,
   "id": "8ac793ed",
   "metadata": {},
   "outputs": [],
   "source": [
    "import pyspark.sql.functions as F\n",
    "%time AirlineDF5.select(\"UniqueCarrier\").groupBy('UniqueCarrier').count().show()"
   ]
  },
  {
   "cell_type": "markdown",
   "id": "406b8206",
   "metadata": {},
   "source": [
    "##### Using repartition() and partitionBy() together"
   ]
  },
  {
   "cell_type": "code",
   "execution_count": null,
   "id": "26914079",
   "metadata": {},
   "outputs": [],
   "source": [
    "AirlineDFMain.repartition(3)\\\n",
    ".write\\\n",
    ".partitionBy('Year')\\\n",
    ".format('csv')\\\n",
    ".mode('overwrite')\\\n",
    ".option('header', True)\\\n",
    ".option('path', '/Users/jagadeesh/Downloads/data/airdata_rb')\\\n",
    ".save()"
   ]
  }
 ],
 "metadata": {
  "kernelspec": {
   "display_name": "Python 3 (ipykernel)",
   "language": "python",
   "name": "python3"
  },
  "language_info": {
   "codemirror_mode": {
    "name": "ipython",
    "version": 3
   },
   "file_extension": ".py",
   "mimetype": "text/x-python",
   "name": "python",
   "nbconvert_exporter": "python",
   "pygments_lexer": "ipython3",
   "version": "3.9.13"
  }
 },
 "nbformat": 4,
 "nbformat_minor": 5
}
